{
 "cells": [
  {
   "cell_type": "markdown",
   "metadata": {},
   "source": [
    "# Processing Raw text data"
   ]
  },
  {
   "cell_type": "code",
   "execution_count": 4,
   "metadata": {},
   "outputs": [],
   "source": [
    "from __future__ import division\n",
    "import nltk, re, pprint"
   ]
  },
  {
   "cell_type": "raw",
   "metadata": {},
   "source": [
    "# Gutenberg ebook resource  62,000 books - http://www.gutenberg.org/catalog/"
   ]
  },
  {
   "cell_type": "code",
   "execution_count": 12,
   "metadata": {},
   "outputs": [],
   "source": [
    "# python3, urllib2 has been split into urllib.request and urllib.error.\n",
    "\n",
    "#from urllib.request import urlopen\n",
    "\n",
    "#url = \"http://www.gutenberg.org/cache/epub/147/pg147.txt\"     # chose Common Sense by Thomas Paine\n",
    "\n",
    "#ebook = urlopen(url).read()"
   ]
  },
  {
   "cell_type": "code",
   "execution_count": null,
   "metadata": {},
   "outputs": [],
   "source": [
    "#len(ebook)     # number of characters"
   ]
  },
  {
   "cell_type": "code",
   "execution_count": null,
   "metadata": {},
   "outputs": [],
   "source": [
    "#ebook[122:233]"
   ]
  },
  {
   "cell_type": "code",
   "execution_count": 59,
   "metadata": {},
   "outputs": [],
   "source": [
    "# I downloaded the file as .txt in Documents to avoid byte type errors as above\n",
    "\n",
    "ebook = open(\"CommonSense_Paine.txt\",'r')          #ebook = open('CommonSense_Paine.txt').read()"
   ]
  },
  {
   "cell_type": "markdown",
   "metadata": {},
   "source": [
    "## Tokenization"
   ]
  },
  {
   "cell_type": "code",
   "execution_count": 65,
   "metadata": {},
   "outputs": [],
   "source": [
    "#str(ebook, 'utf-8')    # needed to convert ebook as bytes to string dtype  following the tutorial"
   ]
  },
  {
   "cell_type": "code",
   "execution_count": 66,
   "metadata": {},
   "outputs": [
    {
     "data": {
      "text/plain": [
       "<_io.TextIOWrapper name='CommonSense_Paine.txt' mode='r' encoding='UTF-8'>"
      ]
     },
     "execution_count": 66,
     "metadata": {},
     "output_type": "execute_result"
    }
   ],
   "source": [
    "ebook"
   ]
  },
  {
   "cell_type": "code",
   "execution_count": 67,
   "metadata": {},
   "outputs": [],
   "source": [
    "#tokens = nltk.word_tokenize(ebook)\n",
    "\n",
    "text = nltk.Text(ebook)"
   ]
  },
  {
   "cell_type": "code",
   "execution_count": 68,
   "metadata": {},
   "outputs": [
    {
     "data": {
      "text/plain": [
       "nltk.text.Text"
      ]
     },
     "execution_count": 68,
     "metadata": {},
     "output_type": "execute_result"
    }
   ],
   "source": [
    "type(text)"
   ]
  },
  {
   "cell_type": "code",
   "execution_count": 71,
   "metadata": {
    "scrolled": true
   },
   "outputs": [
    {
     "data": {
      "text/plain": [
       "['a just estimation, it is as great a folly to pay a Bunker-hill price\\n',\n",
       " 'for law, as for land. As I have always considered the independancy\\n',\n",
       " 'of this continent, as an event, which sooner or later must arrive,\\n',\n",
       " 'so from the late rapid progress of the continent to maturity, the\\n',\n",
       " 'event could not be far off. Wherefore, on the breaking out of\\n',\n",
       " 'hostilities, it was not worth the while to have disputed a matter,\\n',\n",
       " 'which time would have finally redressed, unless we meant to be in\\n',\n",
       " 'earnest; otherwise, it is like wasting an estate on a suit at law,\\n',\n",
       " 'to regulate the trespasses of a tenant, whose lease is just expiring.\\n',\n",
       " 'No man was a warmer wisher for reconciliation than myself, before\\n',\n",
       " 'the fatal nineteenth of April 1775, but the moment the event of that\\n',\n",
       " 'day was made known, I rejected the hardened, sullen tempered Pharaoh\\n',\n",
       " 'of England for ever; and disdain the wretch, that with the pretended\\n',\n",
       " 'title of father of his people can unfeelingly hear of their\\n',\n",
       " 'slaughter, and composedly sleep with their blood upon his soul.\\n',\n",
       " '\\n',\n",
       " 'But admitting that matters were now made up, what would be the event?\\n',\n",
       " 'I answer, the ruin of the continent. And that for several reasons.\\n',\n",
       " '\\n',\n",
       " 'First. The powers of governing still remaining in the hands of the\\n']"
      ]
     },
     "execution_count": 71,
     "metadata": {},
     "output_type": "execute_result"
    }
   ],
   "source": [
    "text[1020:1040]"
   ]
  },
  {
   "cell_type": "code",
   "execution_count": 78,
   "metadata": {},
   "outputs": [],
   "source": [
    "#text.collocations()\n"
   ]
  },
  {
   "cell_type": "code",
   "execution_count": 79,
   "metadata": {},
   "outputs": [],
   "source": [
    "# find() and rfind() (\"reverse find\") methods help us get the right index values to use for slicing the string"
   ]
  },
  {
   "cell_type": "code",
   "execution_count": null,
   "metadata": {},
   "outputs": [],
   "source": []
  }
 ],
 "metadata": {
  "kernelspec": {
   "display_name": "Python 3",
   "language": "python",
   "name": "python3"
  },
  "language_info": {
   "codemirror_mode": {
    "name": "ipython",
    "version": 3
   },
   "file_extension": ".py",
   "mimetype": "text/x-python",
   "name": "python",
   "nbconvert_exporter": "python",
   "pygments_lexer": "ipython3",
   "version": "3.7.6"
  }
 },
 "nbformat": 4,
 "nbformat_minor": 4
}
